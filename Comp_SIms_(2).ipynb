{
  "nbformat": 4,
  "nbformat_minor": 0,
  "metadata": {
    "colab": {
      "name": "Comp_SIms (2).ipynb",
      "provenance": [],
      "collapsed_sections": []
    },
    "kernelspec": {
      "name": "python3",
      "display_name": "Python 3"
    }
  },
  "cells": [
    {
      "cell_type": "markdown",
      "metadata": {
        "id": "VSUwDwWAWV7s",
        "colab_type": "text"
      },
      "source": [
        "**Importing the necessary python libraries**"
      ]
    },
    {
      "cell_type": "code",
      "metadata": {
        "id": "8JnmxxlHwAC8",
        "colab_type": "code",
        "colab": {}
      },
      "source": [
        "import numpy as np\n",
        "import matplotlib.pyplot as plt\n",
        "import pandas as pd\n",
        "from sklearn.model_selection import train_test_split\n",
        "from sklearn.neighbors import KNeighborsClassifier\n",
        "from sklearn.preprocessing import StandardScaler\n",
        "from sklearn.metrics import classification_report, confusion_matrix\n",
        "from sklearn.metrics import f1_score\n",
        "from sklearn.metrics import accuracy_score\n",
        "import seaborn as sns\n",
        "sns.set()\n",
        "from plotly.subplots import make_subplots\n",
        "import plotly.graph_objects as go"
      ],
      "execution_count": 73,
      "outputs": []
    },
    {
      "cell_type": "markdown",
      "metadata": {
        "id": "HxqRbZg3WcHD",
        "colab_type": "text"
      },
      "source": [
        "**`Import the dataset `**"
      ]
    },
    {
      "cell_type": "code",
      "metadata": {
        "id": "c4dvAomAbqt5",
        "colab_type": "code",
        "colab": {
          "resources": {
            "http://localhost:8080/nbextensions/google.colab/files.js": {
              "data": "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",
              "ok": true,
              "headers": [
                [
                  "content-type",
                  "application/javascript"
                ]
              ],
              "status": 200,
              "status_text": ""
            }
          },
          "base_uri": "https://localhost:8080/",
          "height": 70
        },
        "outputId": "15bfb625-d711-4d8f-b7b3-33d8ce0a86be"
      },
      "source": [
        "from google.colab import files\n",
        "data= files.upload()"
      ],
      "execution_count": 13,
      "outputs": [
        {
          "output_type": "display_data",
          "data": {
            "text/html": [
              "\n",
              "     <input type=\"file\" id=\"files-55f6d06a-8637-4c05-a226-a7b4497c3b3a\" name=\"files[]\" multiple disabled\n",
              "        style=\"border:none\" />\n",
              "     <output id=\"result-55f6d06a-8637-4c05-a226-a7b4497c3b3a\">\n",
              "      Upload widget is only available when the cell has been executed in the\n",
              "      current browser session. Please rerun this cell to enable.\n",
              "      </output>\n",
              "      <script src=\"/nbextensions/google.colab/files.js\"></script> "
            ],
            "text/plain": [
              "<IPython.core.display.HTML object>"
            ]
          },
          "metadata": {
            "tags": []
          }
        },
        {
          "output_type": "stream",
          "text": [
            "Saving Health Systems Dataset.csv to Health Systems Dataset (1).csv\n"
          ],
          "name": "stdout"
        }
      ]
    },
    {
      "cell_type": "markdown",
      "metadata": {
        "id": "wHgAnunCRDIq",
        "colab_type": "text"
      },
      "source": [
        "**Data analysis and cleaning of data**\n",
        "\n",
        "Gain more insight on the data\n",
        "\n"
      ]
    },
    {
      "cell_type": "code",
      "metadata": {
        "id": "57Sd2Fp1IsmC",
        "colab_type": "code",
        "colab": {
          "base_uri": "https://localhost:8080/",
          "height": 227
        },
        "outputId": "d7e9ad2c-20b0-4478-c248-743cb11f10fb"
      },
      "source": [
        "df = pd.read_csv (\"Health Systems Dataset.csv\")\n",
        "df.head()"
      ],
      "execution_count": 14,
      "outputs": [
        {
          "output_type": "execute_result",
          "data": {
            "text/html": [
              "<div>\n",
              "<style scoped>\n",
              "    .dataframe tbody tr th:only-of-type {\n",
              "        vertical-align: middle;\n",
              "    }\n",
              "\n",
              "    .dataframe tbody tr th {\n",
              "        vertical-align: top;\n",
              "    }\n",
              "\n",
              "    .dataframe thead th {\n",
              "        text-align: right;\n",
              "    }\n",
              "</style>\n",
              "<table border=\"1\" class=\"dataframe\">\n",
              "  <thead>\n",
              "    <tr style=\"text-align: right;\">\n",
              "      <th></th>\n",
              "      <th>Country_Region</th>\n",
              "      <th>Province_State</th>\n",
              "      <th>World_Bank_Name</th>\n",
              "      <th>Health_exp_pct_GDP_2016</th>\n",
              "      <th>Health_exp_public_pct_2016</th>\n",
              "      <th>Health_exp_out_of_pocket_pct_2016</th>\n",
              "      <th>Health_exp_per_capita_USD_2016</th>\n",
              "      <th>per_capita_exp_PPP_2016</th>\n",
              "      <th>External_health_exp_pct_2016</th>\n",
              "      <th>Physicians_per_1000_2009-18</th>\n",
              "      <th>Nurse_midwife_per_1000_2009-18</th>\n",
              "      <th>Specialist_surgical_per_1000_2008-18</th>\n",
              "      <th>Completeness_of_birth_reg_2009-18</th>\n",
              "      <th>Completeness_of_death_reg_2008-16</th>\n",
              "    </tr>\n",
              "  </thead>\n",
              "  <tbody>\n",
              "    <tr>\n",
              "      <th>0</th>\n",
              "      <td>Afghanistan</td>\n",
              "      <td>NaN</td>\n",
              "      <td>Afghanistan</td>\n",
              "      <td>10.2</td>\n",
              "      <td>5.1</td>\n",
              "      <td>77.4</td>\n",
              "      <td>57.2</td>\n",
              "      <td>162.8</td>\n",
              "      <td>17.5</td>\n",
              "      <td>0.3</td>\n",
              "      <td>0.3</td>\n",
              "      <td>0.0</td>\n",
              "      <td>42.3</td>\n",
              "      <td>NaN</td>\n",
              "    </tr>\n",
              "    <tr>\n",
              "      <th>1</th>\n",
              "      <td>Albania</td>\n",
              "      <td>NaN</td>\n",
              "      <td>Albania</td>\n",
              "      <td>6.7</td>\n",
              "      <td>41.4</td>\n",
              "      <td>58.0</td>\n",
              "      <td>271.5</td>\n",
              "      <td>759.7</td>\n",
              "      <td>0.7</td>\n",
              "      <td>1.2</td>\n",
              "      <td>3.6</td>\n",
              "      <td>11.6</td>\n",
              "      <td>98.4</td>\n",
              "      <td>53.0</td>\n",
              "    </tr>\n",
              "    <tr>\n",
              "      <th>2</th>\n",
              "      <td>Algeria</td>\n",
              "      <td>NaN</td>\n",
              "      <td>Algeria</td>\n",
              "      <td>6.6</td>\n",
              "      <td>67.7</td>\n",
              "      <td>30.9</td>\n",
              "      <td>260.4</td>\n",
              "      <td>998.2</td>\n",
              "      <td>0.0</td>\n",
              "      <td>1.8</td>\n",
              "      <td>2.2</td>\n",
              "      <td>12.1</td>\n",
              "      <td>100.0</td>\n",
              "      <td>NaN</td>\n",
              "    </tr>\n",
              "    <tr>\n",
              "      <th>3</th>\n",
              "      <td>Andorra</td>\n",
              "      <td>NaN</td>\n",
              "      <td>Andorra</td>\n",
              "      <td>10.4</td>\n",
              "      <td>49.1</td>\n",
              "      <td>41.7</td>\n",
              "      <td>3834.7</td>\n",
              "      <td>4978.7</td>\n",
              "      <td>NaN</td>\n",
              "      <td>3.3</td>\n",
              "      <td>4.0</td>\n",
              "      <td>83.1</td>\n",
              "      <td>100.0</td>\n",
              "      <td>80.0</td>\n",
              "    </tr>\n",
              "    <tr>\n",
              "      <th>4</th>\n",
              "      <td>Angola</td>\n",
              "      <td>NaN</td>\n",
              "      <td>Angola</td>\n",
              "      <td>2.9</td>\n",
              "      <td>44.1</td>\n",
              "      <td>35.2</td>\n",
              "      <td>95.2</td>\n",
              "      <td>185.8</td>\n",
              "      <td>3.6</td>\n",
              "      <td>0.2</td>\n",
              "      <td>1.3</td>\n",
              "      <td>NaN</td>\n",
              "      <td>25.0</td>\n",
              "      <td>NaN</td>\n",
              "    </tr>\n",
              "  </tbody>\n",
              "</table>\n",
              "</div>"
            ],
            "text/plain": [
              "  Country_Region  ... Completeness_of_death_reg_2008-16\n",
              "0    Afghanistan  ...                               NaN\n",
              "1        Albania  ...                              53.0\n",
              "2        Algeria  ...                               NaN\n",
              "3        Andorra  ...                              80.0\n",
              "4         Angola  ...                               NaN\n",
              "\n",
              "[5 rows x 14 columns]"
            ]
          },
          "metadata": {
            "tags": []
          },
          "execution_count": 14
        }
      ]
    },
    {
      "cell_type": "markdown",
      "metadata": {
        "id": "wIGBpvLXWjjG",
        "colab_type": "text"
      },
      "source": [
        "**Check for null values in the different columns**\n"
      ]
    },
    {
      "cell_type": "code",
      "metadata": {
        "id": "h7lbFMwiU1Zb",
        "colab_type": "code",
        "colab": {
          "base_uri": "https://localhost:8080/",
          "height": 261
        },
        "outputId": "6d7b0fb4-df00-4ed7-afcc-55f9b2bf95c8"
      },
      "source": [
        "df.isnull().sum()"
      ],
      "execution_count": 15,
      "outputs": [
        {
          "output_type": "execute_result",
          "data": {
            "text/plain": [
              "Country_Region                           23\n",
              "Province_State                          196\n",
              "World_Bank_Name                           0\n",
              "Health_exp_pct_GDP_2016                  24\n",
              "Health_exp_public_pct_2016               24\n",
              "Health_exp_out_of_pocket_pct_2016        24\n",
              "Health_exp_per_capita_USD_2016           24\n",
              "per_capita_exp_PPP_2016                  24\n",
              "External_health_exp_pct_2016             43\n",
              "Physicians_per_1000_2009-18              21\n",
              "Nurse_midwife_per_1000_2009-18           21\n",
              "Specialist_surgical_per_1000_2008-18     35\n",
              "Completeness_of_birth_reg_2009-18        47\n",
              "Completeness_of_death_reg_2008-16       103\n",
              "dtype: int64"
            ]
          },
          "metadata": {
            "tags": []
          },
          "execution_count": 15
        }
      ]
    },
    {
      "cell_type": "markdown",
      "metadata": {
        "id": "FXFg5KiaStYp",
        "colab_type": "text"
      },
      "source": [
        "**Calculate percentage of null values in the different columns**"
      ]
    },
    {
      "cell_type": "code",
      "metadata": {
        "id": "YwyZlZnCSR-c",
        "colab_type": "code",
        "colab": {
          "base_uri": "https://localhost:8080/",
          "height": 261
        },
        "outputId": "76308ca2-60b3-475d-ec22-1353301c9589"
      },
      "source": [
        "df.isnull().sum() /210 * 100"
      ],
      "execution_count": 16,
      "outputs": [
        {
          "output_type": "execute_result",
          "data": {
            "text/plain": [
              "Country_Region                          10.952381\n",
              "Province_State                          93.333333\n",
              "World_Bank_Name                          0.000000\n",
              "Health_exp_pct_GDP_2016                 11.428571\n",
              "Health_exp_public_pct_2016              11.428571\n",
              "Health_exp_out_of_pocket_pct_2016       11.428571\n",
              "Health_exp_per_capita_USD_2016          11.428571\n",
              "per_capita_exp_PPP_2016                 11.428571\n",
              "External_health_exp_pct_2016            20.476190\n",
              "Physicians_per_1000_2009-18             10.000000\n",
              "Nurse_midwife_per_1000_2009-18          10.000000\n",
              "Specialist_surgical_per_1000_2008-18    16.666667\n",
              "Completeness_of_birth_reg_2009-18       22.380952\n",
              "Completeness_of_death_reg_2008-16       49.047619\n",
              "dtype: float64"
            ]
          },
          "metadata": {
            "tags": []
          },
          "execution_count": 16
        }
      ]
    },
    {
      "cell_type": "markdown",
      "metadata": {
        "id": "JtjIw0DMep4h",
        "colab_type": "text"
      },
      "source": [
        "**Since Province State has the most null values it doesn't contribute hugely to our classification model.Therefore, it is dropped**\n",
        "\n",
        "\n",
        "\n",
        "\n"
      ]
    },
    {
      "cell_type": "code",
      "metadata": {
        "id": "6CdCuZ5BY8vN",
        "colab_type": "code",
        "colab": {}
      },
      "source": [
        "del df['Province_State']\n",
        "\n"
      ],
      "execution_count": 17,
      "outputs": []
    },
    {
      "cell_type": "markdown",
      "metadata": {
        "id": "0aE0rPnpex8p",
        "colab_type": "text"
      },
      "source": [
        "**Identify a method to fill in the null values. In this case, columns with numerical data missing are replaced with the mean value.**"
      ]
    },
    {
      "cell_type": "code",
      "metadata": {
        "id": "9YnTYalnenGh",
        "colab_type": "code",
        "colab": {
          "base_uri": "https://localhost:8080/",
          "height": 460
        },
        "outputId": "902f6fc3-8eda-44e3-d6ed-4b6a66bb3248"
      },
      "source": [
        "df.fillna(df.mean(),inplace=True)\n",
        "df"
      ],
      "execution_count": 18,
      "outputs": [
        {
          "output_type": "execute_result",
          "data": {
            "text/html": [
              "<div>\n",
              "<style scoped>\n",
              "    .dataframe tbody tr th:only-of-type {\n",
              "        vertical-align: middle;\n",
              "    }\n",
              "\n",
              "    .dataframe tbody tr th {\n",
              "        vertical-align: top;\n",
              "    }\n",
              "\n",
              "    .dataframe thead th {\n",
              "        text-align: right;\n",
              "    }\n",
              "</style>\n",
              "<table border=\"1\" class=\"dataframe\">\n",
              "  <thead>\n",
              "    <tr style=\"text-align: right;\">\n",
              "      <th></th>\n",
              "      <th>Country_Region</th>\n",
              "      <th>World_Bank_Name</th>\n",
              "      <th>Health_exp_pct_GDP_2016</th>\n",
              "      <th>Health_exp_public_pct_2016</th>\n",
              "      <th>Health_exp_out_of_pocket_pct_2016</th>\n",
              "      <th>Health_exp_per_capita_USD_2016</th>\n",
              "      <th>per_capita_exp_PPP_2016</th>\n",
              "      <th>External_health_exp_pct_2016</th>\n",
              "      <th>Physicians_per_1000_2009-18</th>\n",
              "      <th>Nurse_midwife_per_1000_2009-18</th>\n",
              "      <th>Specialist_surgical_per_1000_2008-18</th>\n",
              "      <th>Completeness_of_birth_reg_2009-18</th>\n",
              "      <th>Completeness_of_death_reg_2008-16</th>\n",
              "    </tr>\n",
              "  </thead>\n",
              "  <tbody>\n",
              "    <tr>\n",
              "      <th>0</th>\n",
              "      <td>Afghanistan</td>\n",
              "      <td>Afghanistan</td>\n",
              "      <td>10.200000</td>\n",
              "      <td>5.100000</td>\n",
              "      <td>77.400000</td>\n",
              "      <td>57.200000</td>\n",
              "      <td>162.800000</td>\n",
              "      <td>17.500000</td>\n",
              "      <td>0.30000</td>\n",
              "      <td>0.300000</td>\n",
              "      <td>0.000000</td>\n",
              "      <td>42.300000</td>\n",
              "      <td>89.309346</td>\n",
              "    </tr>\n",
              "    <tr>\n",
              "      <th>1</th>\n",
              "      <td>Albania</td>\n",
              "      <td>Albania</td>\n",
              "      <td>6.700000</td>\n",
              "      <td>41.400000</td>\n",
              "      <td>58.000000</td>\n",
              "      <td>271.500000</td>\n",
              "      <td>759.700000</td>\n",
              "      <td>0.700000</td>\n",
              "      <td>1.20000</td>\n",
              "      <td>3.600000</td>\n",
              "      <td>11.600000</td>\n",
              "      <td>98.400000</td>\n",
              "      <td>53.000000</td>\n",
              "    </tr>\n",
              "    <tr>\n",
              "      <th>2</th>\n",
              "      <td>Algeria</td>\n",
              "      <td>Algeria</td>\n",
              "      <td>6.600000</td>\n",
              "      <td>67.700000</td>\n",
              "      <td>30.900000</td>\n",
              "      <td>260.400000</td>\n",
              "      <td>998.200000</td>\n",
              "      <td>0.000000</td>\n",
              "      <td>1.80000</td>\n",
              "      <td>2.200000</td>\n",
              "      <td>12.100000</td>\n",
              "      <td>100.000000</td>\n",
              "      <td>89.309346</td>\n",
              "    </tr>\n",
              "    <tr>\n",
              "      <th>3</th>\n",
              "      <td>Andorra</td>\n",
              "      <td>Andorra</td>\n",
              "      <td>10.400000</td>\n",
              "      <td>49.100000</td>\n",
              "      <td>41.700000</td>\n",
              "      <td>3834.700000</td>\n",
              "      <td>4978.700000</td>\n",
              "      <td>9.116766</td>\n",
              "      <td>3.30000</td>\n",
              "      <td>4.000000</td>\n",
              "      <td>83.100000</td>\n",
              "      <td>100.000000</td>\n",
              "      <td>80.000000</td>\n",
              "    </tr>\n",
              "    <tr>\n",
              "      <th>4</th>\n",
              "      <td>Angola</td>\n",
              "      <td>Angola</td>\n",
              "      <td>2.900000</td>\n",
              "      <td>44.100000</td>\n",
              "      <td>35.200000</td>\n",
              "      <td>95.200000</td>\n",
              "      <td>185.800000</td>\n",
              "      <td>3.600000</td>\n",
              "      <td>0.20000</td>\n",
              "      <td>1.300000</td>\n",
              "      <td>37.937143</td>\n",
              "      <td>25.000000</td>\n",
              "      <td>89.309346</td>\n",
              "    </tr>\n",
              "    <tr>\n",
              "      <th>...</th>\n",
              "      <td>...</td>\n",
              "      <td>...</td>\n",
              "      <td>...</td>\n",
              "      <td>...</td>\n",
              "      <td>...</td>\n",
              "      <td>...</td>\n",
              "      <td>...</td>\n",
              "      <td>...</td>\n",
              "      <td>...</td>\n",
              "      <td>...</td>\n",
              "      <td>...</td>\n",
              "      <td>...</td>\n",
              "      <td>...</td>\n",
              "    </tr>\n",
              "    <tr>\n",
              "      <th>205</th>\n",
              "      <td>US</td>\n",
              "      <td>Virgin Islands (U.S.)</td>\n",
              "      <td>6.715054</td>\n",
              "      <td>52.915054</td>\n",
              "      <td>32.661828</td>\n",
              "      <td>1037.004839</td>\n",
              "      <td>1412.466667</td>\n",
              "      <td>9.116766</td>\n",
              "      <td>1.72328</td>\n",
              "      <td>4.139153</td>\n",
              "      <td>37.937143</td>\n",
              "      <td>84.202454</td>\n",
              "      <td>89.309346</td>\n",
              "    </tr>\n",
              "    <tr>\n",
              "      <th>206</th>\n",
              "      <td>NaN</td>\n",
              "      <td>West Bank and Gaza</td>\n",
              "      <td>6.715054</td>\n",
              "      <td>52.915054</td>\n",
              "      <td>32.661828</td>\n",
              "      <td>1037.004839</td>\n",
              "      <td>1412.466667</td>\n",
              "      <td>9.116766</td>\n",
              "      <td>1.72328</td>\n",
              "      <td>4.139153</td>\n",
              "      <td>37.937143</td>\n",
              "      <td>96.000000</td>\n",
              "      <td>89.309346</td>\n",
              "    </tr>\n",
              "    <tr>\n",
              "      <th>207</th>\n",
              "      <td>NaN</td>\n",
              "      <td>Yemen, Rep.</td>\n",
              "      <td>5.600000</td>\n",
              "      <td>10.200000</td>\n",
              "      <td>81.000000</td>\n",
              "      <td>72.000000</td>\n",
              "      <td>144.500000</td>\n",
              "      <td>7.800000</td>\n",
              "      <td>0.30000</td>\n",
              "      <td>0.700000</td>\n",
              "      <td>0.800000</td>\n",
              "      <td>30.700000</td>\n",
              "      <td>89.309346</td>\n",
              "    </tr>\n",
              "    <tr>\n",
              "      <th>208</th>\n",
              "      <td>Zambia</td>\n",
              "      <td>Zambia</td>\n",
              "      <td>4.500000</td>\n",
              "      <td>38.300000</td>\n",
              "      <td>12.100000</td>\n",
              "      <td>56.500000</td>\n",
              "      <td>175.200000</td>\n",
              "      <td>42.500000</td>\n",
              "      <td>0.10000</td>\n",
              "      <td>0.900000</td>\n",
              "      <td>1.500000</td>\n",
              "      <td>11.300000</td>\n",
              "      <td>89.309346</td>\n",
              "    </tr>\n",
              "    <tr>\n",
              "      <th>209</th>\n",
              "      <td>Zimbabwe</td>\n",
              "      <td>Zimbabwe</td>\n",
              "      <td>9.400000</td>\n",
              "      <td>46.500000</td>\n",
              "      <td>21.200000</td>\n",
              "      <td>93.900000</td>\n",
              "      <td>185.000000</td>\n",
              "      <td>25.400000</td>\n",
              "      <td>0.10000</td>\n",
              "      <td>1.200000</td>\n",
              "      <td>1.600000</td>\n",
              "      <td>38.000000</td>\n",
              "      <td>89.309346</td>\n",
              "    </tr>\n",
              "  </tbody>\n",
              "</table>\n",
              "<p>210 rows × 13 columns</p>\n",
              "</div>"
            ],
            "text/plain": [
              "    Country_Region  ... Completeness_of_death_reg_2008-16\n",
              "0      Afghanistan  ...                         89.309346\n",
              "1          Albania  ...                         53.000000\n",
              "2          Algeria  ...                         89.309346\n",
              "3          Andorra  ...                         80.000000\n",
              "4           Angola  ...                         89.309346\n",
              "..             ...  ...                               ...\n",
              "205             US  ...                         89.309346\n",
              "206            NaN  ...                         89.309346\n",
              "207            NaN  ...                         89.309346\n",
              "208         Zambia  ...                         89.309346\n",
              "209       Zimbabwe  ...                         89.309346\n",
              "\n",
              "[210 rows x 13 columns]"
            ]
          },
          "metadata": {
            "tags": []
          },
          "execution_count": 18
        }
      ]
    },
    {
      "cell_type": "markdown",
      "metadata": {
        "id": "T-qjQi1XWzKL",
        "colab_type": "text"
      },
      "source": [
        "**Since World Bank Name had all values, that column can be used to fill in missing values in the country region column by masking**"
      ]
    },
    {
      "cell_type": "code",
      "metadata": {
        "id": "PdH8MAdCUjmT",
        "colab_type": "code",
        "colab": {
          "base_uri": "https://localhost:8080/",
          "height": 245
        },
        "outputId": "c58129af-1821-41db-fcf1-1ecb1ad02970"
      },
      "source": [
        "df['Country_Region']= df['Country_Region'].mask(pd.isnull, df['World_Bank_Name'])\n",
        "df.isnull().sum()\n"
      ],
      "execution_count": 19,
      "outputs": [
        {
          "output_type": "execute_result",
          "data": {
            "text/plain": [
              "Country_Region                          0\n",
              "World_Bank_Name                         0\n",
              "Health_exp_pct_GDP_2016                 0\n",
              "Health_exp_public_pct_2016              0\n",
              "Health_exp_out_of_pocket_pct_2016       0\n",
              "Health_exp_per_capita_USD_2016          0\n",
              "per_capita_exp_PPP_2016                 0\n",
              "External_health_exp_pct_2016            0\n",
              "Physicians_per_1000_2009-18             0\n",
              "Nurse_midwife_per_1000_2009-18          0\n",
              "Specialist_surgical_per_1000_2008-18    0\n",
              "Completeness_of_birth_reg_2009-18       0\n",
              "Completeness_of_death_reg_2008-16       0\n",
              "dtype: int64"
            ]
          },
          "metadata": {
            "tags": []
          },
          "execution_count": 19
        }
      ]
    },
    {
      "cell_type": "markdown",
      "metadata": {
        "id": "I_V3Kgrwydtu",
        "colab_type": "text"
      },
      "source": [
        "**Selcting features**"
      ]
    },
    {
      "cell_type": "markdown",
      "metadata": {
        "id": "3K49n7a4yi8z",
        "colab_type": "text"
      },
      "source": [
        "The columsn that will be useful in the estimation of how much each country spends on health is **Health_exp_pct_GDP_2016 and Health_exp_per_capita_USD_2016** and this is because: The Health_exp_pct_GDP_2016 is the level of current health expenditure expressed as a percentage of GDP. The health expenditure in this case would be the total health expenditure i.e expenditure by the government, out of pocket expenditure and external.\n",
        "Health_exp_per_capita_USD_2016 is the current expenditures on health per capita in current US dollars.\n"
      ]
    },
    {
      "cell_type": "markdown",
      "metadata": {
        "id": "85ThifX-g3DK",
        "colab_type": "text"
      },
      "source": [
        "***Highest 25 spenders and lowest 25 spenders according to GDP***"
      ]
    },
    {
      "cell_type": "code",
      "metadata": {
        "id": "V57nL0ULdLRb",
        "colab_type": "code",
        "colab": {
          "base_uri": "https://localhost:8080/",
          "height": 542
        },
        "outputId": "3bbf96c6-3ddc-42e7-9acc-99d90cbdcc37"
      },
      "source": [
        "total_exp = df.sort_values('Health_exp_pct_GDP_2016', ascending = False)\n",
        "high_exp = total_exp.head(25)\n",
        "total_exp = total_exp.sort_values('Health_exp_pct_GDP_2016')\n",
        "low_exp = total_exp.head(25)\n",
        "\n",
        "fig = make_subplots(rows=1, cols=2, shared_yaxes=True)\n",
        "\n",
        "fig.add_trace(\n",
        "    go.Bar(x=high_exp['Country_Region'], y=high_exp['Health_exp_pct_GDP_2016']),\n",
        "    row=1, col=1\n",
        ")\n",
        "\n",
        "fig.add_trace(\n",
        "    go.Bar(x=low_exp['Country_Region'], y=low_exp['Health_exp_pct_GDP_2016']),\n",
        "    row=1, col=2\n",
        ")\n",
        "\n",
        "\n",
        "fig.update_layout(\n",
        "    title={\n",
        "        'text': \"The 25 highest and 25 lowest spenders\",\n",
        "        'y':0.9,\n",
        "        'x':0.5,\n",
        "        'xanchor': 'center',\n",
        "        'yanchor': 'top'},\n",
        "    plot_bgcolor= 'black',\n",
        "    paper_bgcolor= 'black',\n",
        "    yaxis_title=\"% of GDP spent on healthcare\",\n",
        "    showlegend=False,\n",
        "    font=dict(\n",
        "        family=\"Times New Roman, Times, serif\",\n",
        "        size=14,\n",
        "        color=\"#7f7f7f\"\n",
        "    )\n",
        ")\n",
        "fig.show()"
      ],
      "execution_count": 34,
      "outputs": [
        {
          "output_type": "display_data",
          "data": {
            "text/html": [
              "<html>\n",
              "<head><meta charset=\"utf-8\" /></head>\n",
              "<body>\n",
              "    <div>\n",
              "            <script src=\"https://cdnjs.cloudflare.com/ajax/libs/mathjax/2.7.5/MathJax.js?config=TeX-AMS-MML_SVG\"></script><script type=\"text/javascript\">if (window.MathJax) {MathJax.Hub.Config({SVG: {font: \"STIX-Web\"}});}</script>\n",
              "                <script type=\"text/javascript\">window.PlotlyConfig = {MathJaxConfig: 'local'};</script>\n",
              "        <script src=\"https://cdn.plot.ly/plotly-latest.min.js\"></script>    \n",
              "            <div id=\"817f4372-b39d-4c0f-a321-800f0208075b\" class=\"plotly-graph-div\" style=\"height:525px; width:100%;\"></div>\n",
              "            <script type=\"text/javascript\">\n",
              "                \n",
              "                    window.PLOTLYENV=window.PLOTLYENV || {};\n",
              "                    \n",
              "                if (document.getElementById(\"817f4372-b39d-4c0f-a321-800f0208075b\")) {\n",
              "                    Plotly.newPlot(\n",
              "                        '817f4372-b39d-4c0f-a321-800f0208075b',\n",
              "                        [{\"type\": \"bar\", \"x\": [\"Marshall Islands\", \"US\", \"Sierra Leone\", \"Tuvalu\", \"Micronesia, Fed. Sts.\", \"Switzerland\", \"Cuba\", \"Kiribati\", \"Brazil\", \"Palau\", \"France\", \"Germany\", \"Japan\", \"Sweden\", \"Maldives\", \"Norway\", \"Canada\", \"Austria\", \"Denmark\", \"Netherlands\", \"Andorra\", \"Afghanistan\", \"Belgium\", \"Armenia\", \"Malawi\"], \"xaxis\": \"x\", \"y\": [23.3, 17.1, 16.5, 15.5, 12.6, 12.2, 12.2, 11.9, 11.8, 11.7, 11.5, 11.1, 10.9, 10.9, 10.6, 10.5, 10.5, 10.4, 10.4, 10.4, 10.4, 10.2, 10.0, 9.9, 9.8], \"yaxis\": \"y\"}, {\"type\": \"bar\", \"x\": [\"Monaco\", \"Papua New Guinea\", \"Brunei\", \"Bangladesh\", \"Laos\", \"Pakistan\", \"Angola\", \"Eritrea\", \"Gabon\", \"Indonesia\", \"Qatar\", \"Venezuela\", \"Iraq\", \"Equatorial Guinea\", \"Djibouti\", \"Bhutan\", \"Fiji\", \"Kazakhstan\", \"United Arab Emirates\", \"Nigeria\", \"Saint Vincent and the Grenadines\", \"India\", \"Vanuatu\", \"Thailand\", \"Mali\"], \"xaxis\": \"x2\", \"y\": [1.7, 2.0, 2.3, 2.4, 2.4, 2.8, 2.9, 3.0, 3.1, 3.1, 3.1, 3.2, 3.3, 3.4, 3.5, 3.5, 3.5, 3.5, 3.5, 3.6, 3.6, 3.7, 3.7, 3.7, 3.8], \"yaxis\": \"y2\"}],\n",
              "                        {\"font\": {\"color\": \"#7f7f7f\", \"family\": \"Times New Roman, Times, serif\", \"size\": 14}, \"paper_bgcolor\": \"black\", \"plot_bgcolor\": \"black\", \"showlegend\": false, \"template\": {\"data\": {\"bar\": [{\"error_x\": {\"color\": \"#2a3f5f\"}, \"error_y\": {\"color\": \"#2a3f5f\"}, \"marker\": {\"line\": {\"color\": \"#E5ECF6\", \"width\": 0.5}}, \"type\": \"bar\"}], \"barpolar\": [{\"marker\": {\"line\": {\"color\": \"#E5ECF6\", \"width\": 0.5}}, \"type\": \"barpolar\"}], \"carpet\": [{\"aaxis\": {\"endlinecolor\": \"#2a3f5f\", \"gridcolor\": \"white\", \"linecolor\": \"white\", \"minorgridcolor\": \"white\", \"startlinecolor\": \"#2a3f5f\"}, \"baxis\": {\"endlinecolor\": \"#2a3f5f\", \"gridcolor\": \"white\", \"linecolor\": \"white\", \"minorgridcolor\": \"white\", \"startlinecolor\": \"#2a3f5f\"}, \"type\": \"carpet\"}], \"choropleth\": [{\"colorbar\": {\"outlinewidth\": 0, \"ticks\": \"\"}, \"type\": \"choropleth\"}], \"contour\": [{\"colorbar\": {\"outlinewidth\": 0, \"ticks\": \"\"}, \"colorscale\": [[0.0, \"#0d0887\"], [0.1111111111111111, \"#46039f\"], [0.2222222222222222, \"#7201a8\"], [0.3333333333333333, \"#9c179e\"], [0.4444444444444444, \"#bd3786\"], [0.5555555555555556, \"#d8576b\"], [0.6666666666666666, \"#ed7953\"], [0.7777777777777778, \"#fb9f3a\"], [0.8888888888888888, \"#fdca26\"], [1.0, \"#f0f921\"]], \"type\": \"contour\"}], \"contourcarpet\": [{\"colorbar\": {\"outlinewidth\": 0, \"ticks\": \"\"}, \"type\": \"contourcarpet\"}], \"heatmap\": [{\"colorbar\": {\"outlinewidth\": 0, \"ticks\": \"\"}, \"colorscale\": [[0.0, \"#0d0887\"], [0.1111111111111111, \"#46039f\"], [0.2222222222222222, \"#7201a8\"], [0.3333333333333333, \"#9c179e\"], [0.4444444444444444, \"#bd3786\"], [0.5555555555555556, \"#d8576b\"], [0.6666666666666666, \"#ed7953\"], [0.7777777777777778, \"#fb9f3a\"], [0.8888888888888888, \"#fdca26\"], [1.0, \"#f0f921\"]], \"type\": \"heatmap\"}], \"heatmapgl\": [{\"colorbar\": {\"outlinewidth\": 0, \"ticks\": \"\"}, \"colorscale\": [[0.0, \"#0d0887\"], [0.1111111111111111, \"#46039f\"], [0.2222222222222222, \"#7201a8\"], [0.3333333333333333, \"#9c179e\"], [0.4444444444444444, \"#bd3786\"], [0.5555555555555556, \"#d8576b\"], [0.6666666666666666, \"#ed7953\"], [0.7777777777777778, \"#fb9f3a\"], [0.8888888888888888, \"#fdca26\"], [1.0, \"#f0f921\"]], \"type\": \"heatmapgl\"}], \"histogram\": [{\"marker\": {\"colorbar\": {\"outlinewidth\": 0, \"ticks\": \"\"}}, \"type\": \"histogram\"}], \"histogram2d\": [{\"colorbar\": {\"outlinewidth\": 0, \"ticks\": \"\"}, \"colorscale\": [[0.0, \"#0d0887\"], [0.1111111111111111, \"#46039f\"], [0.2222222222222222, \"#7201a8\"], [0.3333333333333333, \"#9c179e\"], [0.4444444444444444, \"#bd3786\"], [0.5555555555555556, \"#d8576b\"], [0.6666666666666666, \"#ed7953\"], [0.7777777777777778, \"#fb9f3a\"], [0.8888888888888888, \"#fdca26\"], [1.0, \"#f0f921\"]], \"type\": \"histogram2d\"}], \"histogram2dcontour\": [{\"colorbar\": {\"outlinewidth\": 0, \"ticks\": \"\"}, \"colorscale\": [[0.0, \"#0d0887\"], [0.1111111111111111, \"#46039f\"], [0.2222222222222222, \"#7201a8\"], [0.3333333333333333, \"#9c179e\"], [0.4444444444444444, \"#bd3786\"], [0.5555555555555556, \"#d8576b\"], [0.6666666666666666, \"#ed7953\"], [0.7777777777777778, \"#fb9f3a\"], [0.8888888888888888, \"#fdca26\"], [1.0, \"#f0f921\"]], \"type\": \"histogram2dcontour\"}], \"mesh3d\": [{\"colorbar\": {\"outlinewidth\": 0, \"ticks\": \"\"}, \"type\": \"mesh3d\"}], \"parcoords\": [{\"line\": {\"colorbar\": {\"outlinewidth\": 0, \"ticks\": \"\"}}, \"type\": \"parcoords\"}], \"pie\": [{\"automargin\": true, \"type\": \"pie\"}], \"scatter\": [{\"marker\": {\"colorbar\": {\"outlinewidth\": 0, \"ticks\": \"\"}}, \"type\": \"scatter\"}], \"scatter3d\": [{\"line\": {\"colorbar\": {\"outlinewidth\": 0, \"ticks\": \"\"}}, \"marker\": {\"colorbar\": {\"outlinewidth\": 0, \"ticks\": \"\"}}, \"type\": \"scatter3d\"}], \"scattercarpet\": [{\"marker\": {\"colorbar\": {\"outlinewidth\": 0, \"ticks\": \"\"}}, \"type\": \"scattercarpet\"}], \"scattergeo\": [{\"marker\": {\"colorbar\": {\"outlinewidth\": 0, \"ticks\": \"\"}}, \"type\": \"scattergeo\"}], \"scattergl\": [{\"marker\": {\"colorbar\": {\"outlinewidth\": 0, \"ticks\": \"\"}}, \"type\": \"scattergl\"}], \"scattermapbox\": [{\"marker\": {\"colorbar\": {\"outlinewidth\": 0, \"ticks\": \"\"}}, \"type\": \"scattermapbox\"}], \"scatterpolar\": [{\"marker\": {\"colorbar\": {\"outlinewidth\": 0, \"ticks\": \"\"}}, \"type\": \"scatterpolar\"}], \"scatterpolargl\": [{\"marker\": {\"colorbar\": {\"outlinewidth\": 0, \"ticks\": \"\"}}, \"type\": \"scatterpolargl\"}], \"scatterternary\": [{\"marker\": {\"colorbar\": {\"outlinewidth\": 0, \"ticks\": \"\"}}, \"type\": \"scatterternary\"}], \"surface\": [{\"colorbar\": {\"outlinewidth\": 0, \"ticks\": \"\"}, \"colorscale\": [[0.0, \"#0d0887\"], [0.1111111111111111, \"#46039f\"], [0.2222222222222222, \"#7201a8\"], [0.3333333333333333, \"#9c179e\"], [0.4444444444444444, \"#bd3786\"], [0.5555555555555556, \"#d8576b\"], [0.6666666666666666, \"#ed7953\"], [0.7777777777777778, \"#fb9f3a\"], [0.8888888888888888, \"#fdca26\"], [1.0, \"#f0f921\"]], \"type\": \"surface\"}], \"table\": [{\"cells\": {\"fill\": {\"color\": \"#EBF0F8\"}, \"line\": {\"color\": \"white\"}}, \"header\": {\"fill\": {\"color\": \"#C8D4E3\"}, \"line\": {\"color\": \"white\"}}, \"type\": \"table\"}]}, \"layout\": {\"annotationdefaults\": {\"arrowcolor\": \"#2a3f5f\", \"arrowhead\": 0, \"arrowwidth\": 1}, \"coloraxis\": {\"colorbar\": {\"outlinewidth\": 0, \"ticks\": \"\"}}, \"colorscale\": {\"diverging\": [[0, \"#8e0152\"], [0.1, \"#c51b7d\"], [0.2, \"#de77ae\"], [0.3, \"#f1b6da\"], [0.4, \"#fde0ef\"], [0.5, \"#f7f7f7\"], [0.6, \"#e6f5d0\"], [0.7, \"#b8e186\"], [0.8, \"#7fbc41\"], [0.9, \"#4d9221\"], [1, \"#276419\"]], \"sequential\": [[0.0, \"#0d0887\"], [0.1111111111111111, \"#46039f\"], [0.2222222222222222, \"#7201a8\"], [0.3333333333333333, \"#9c179e\"], [0.4444444444444444, \"#bd3786\"], [0.5555555555555556, \"#d8576b\"], [0.6666666666666666, \"#ed7953\"], [0.7777777777777778, \"#fb9f3a\"], [0.8888888888888888, \"#fdca26\"], [1.0, \"#f0f921\"]], \"sequentialminus\": [[0.0, \"#0d0887\"], [0.1111111111111111, \"#46039f\"], [0.2222222222222222, \"#7201a8\"], [0.3333333333333333, \"#9c179e\"], [0.4444444444444444, \"#bd3786\"], [0.5555555555555556, \"#d8576b\"], [0.6666666666666666, \"#ed7953\"], [0.7777777777777778, \"#fb9f3a\"], [0.8888888888888888, \"#fdca26\"], [1.0, \"#f0f921\"]]}, \"colorway\": [\"#636efa\", \"#EF553B\", \"#00cc96\", \"#ab63fa\", \"#FFA15A\", \"#19d3f3\", \"#FF6692\", \"#B6E880\", \"#FF97FF\", \"#FECB52\"], \"font\": {\"color\": \"#2a3f5f\"}, \"geo\": {\"bgcolor\": \"white\", \"lakecolor\": \"white\", \"landcolor\": \"#E5ECF6\", \"showlakes\": true, \"showland\": true, \"subunitcolor\": \"white\"}, \"hoverlabel\": {\"align\": \"left\"}, \"hovermode\": \"closest\", \"mapbox\": {\"style\": \"light\"}, \"paper_bgcolor\": \"white\", \"plot_bgcolor\": \"#E5ECF6\", \"polar\": {\"angularaxis\": {\"gridcolor\": \"white\", \"linecolor\": \"white\", \"ticks\": \"\"}, \"bgcolor\": \"#E5ECF6\", \"radialaxis\": {\"gridcolor\": \"white\", \"linecolor\": \"white\", \"ticks\": \"\"}}, \"scene\": {\"xaxis\": {\"backgroundcolor\": \"#E5ECF6\", \"gridcolor\": \"white\", \"gridwidth\": 2, \"linecolor\": \"white\", \"showbackground\": true, \"ticks\": \"\", \"zerolinecolor\": \"white\"}, \"yaxis\": {\"backgroundcolor\": \"#E5ECF6\", \"gridcolor\": \"white\", \"gridwidth\": 2, \"linecolor\": \"white\", \"showbackground\": true, \"ticks\": \"\", \"zerolinecolor\": \"white\"}, \"zaxis\": {\"backgroundcolor\": \"#E5ECF6\", \"gridcolor\": \"white\", \"gridwidth\": 2, \"linecolor\": \"white\", \"showbackground\": true, \"ticks\": \"\", \"zerolinecolor\": \"white\"}}, \"shapedefaults\": {\"line\": {\"color\": \"#2a3f5f\"}}, \"ternary\": {\"aaxis\": {\"gridcolor\": \"white\", \"linecolor\": \"white\", \"ticks\": \"\"}, \"baxis\": {\"gridcolor\": \"white\", \"linecolor\": \"white\", \"ticks\": \"\"}, \"bgcolor\": \"#E5ECF6\", \"caxis\": {\"gridcolor\": \"white\", \"linecolor\": \"white\", \"ticks\": \"\"}}, \"title\": {\"x\": 0.05}, \"xaxis\": {\"automargin\": true, \"gridcolor\": \"white\", \"linecolor\": \"white\", \"ticks\": \"\", \"title\": {\"standoff\": 15}, \"zerolinecolor\": \"white\", \"zerolinewidth\": 2}, \"yaxis\": {\"automargin\": true, \"gridcolor\": \"white\", \"linecolor\": \"white\", \"ticks\": \"\", \"title\": {\"standoff\": 15}, \"zerolinecolor\": \"white\", \"zerolinewidth\": 2}}}, \"title\": {\"text\": \"The 25 highest and 25 lowest spenders\", \"x\": 0.5, \"xanchor\": \"center\", \"y\": 0.9, \"yanchor\": \"top\"}, \"xaxis\": {\"anchor\": \"y\", \"domain\": [0.0, 0.45]}, \"xaxis2\": {\"anchor\": \"y2\", \"domain\": [0.55, 1.0]}, \"yaxis\": {\"anchor\": \"x\", \"domain\": [0.0, 1.0], \"title\": {\"text\": \"% of GDP spent on healthcare\"}}, \"yaxis2\": {\"anchor\": \"x2\", \"domain\": [0.0, 1.0], \"matches\": \"y\", \"showticklabels\": false}},\n",
              "                        {\"responsive\": true}\n",
              "                    ).then(function(){\n",
              "                            \n",
              "var gd = document.getElementById('817f4372-b39d-4c0f-a321-800f0208075b');\n",
              "var x = new MutationObserver(function (mutations, observer) {{\n",
              "        var display = window.getComputedStyle(gd).display;\n",
              "        if (!display || display === 'none') {{\n",
              "            console.log([gd, 'removed!']);\n",
              "            Plotly.purge(gd);\n",
              "            observer.disconnect();\n",
              "        }}\n",
              "}});\n",
              "\n",
              "// Listen for the removal of the full notebook cells\n",
              "var notebookContainer = gd.closest('#notebook-container');\n",
              "if (notebookContainer) {{\n",
              "    x.observe(notebookContainer, {childList: true});\n",
              "}}\n",
              "\n",
              "// Listen for the clearing of the current output cell\n",
              "var outputEl = gd.closest('.output');\n",
              "if (outputEl) {{\n",
              "    x.observe(outputEl, {childList: true});\n",
              "}}\n",
              "\n",
              "                        })\n",
              "                };\n",
              "                \n",
              "            </script>\n",
              "        </div>\n",
              "</body>\n",
              "</html>"
            ]
          },
          "metadata": {
            "tags": []
          }
        }
      ]
    },
    {
      "cell_type": "markdown",
      "metadata": {
        "id": "cQR74rxVzbDl",
        "colab_type": "text"
      },
      "source": [
        "**Highest 25 spenders and lowest 25 spenders according to per capita**"
      ]
    },
    {
      "cell_type": "code",
      "metadata": {
        "id": "hxohNhNVzb0q",
        "colab_type": "code",
        "colab": {
          "base_uri": "https://localhost:8080/",
          "height": 542
        },
        "outputId": "34d66e54-96ec-4c7e-a60a-cafded1b73a7"
      },
      "source": [
        "total_exp = df.sort_values('Health_exp_per_capita_USD_2016', ascending = False)\n",
        "high_exp = total_exp.head(25)\n",
        "total_exp = total_exp.sort_values('Health_exp_per_capita_USD_2016')\n",
        "low_exp = total_exp.head(25)\n",
        "\n",
        "fig = make_subplots(rows=1, cols=2, shared_yaxes=True)\n",
        "\n",
        "fig.add_trace(\n",
        "    go.Bar(x=high_exp['Country_Region'], y=high_exp['Health_exp_per_capita_USD_2016']),\n",
        "    row=1, col=1\n",
        ")\n",
        "\n",
        "fig.add_trace(\n",
        "    go.Bar(x=low_exp['Country_Region'], y=low_exp['Health_exp_per_capita_USD_2016']),\n",
        "    row=1, col=2\n",
        ")\n",
        "\n",
        "\n",
        "fig.update_layout(\n",
        "    title={\n",
        "        'text': \"25 highest and 25 lowest spenders per capita\",\n",
        "        'y':0.9,\n",
        "        'x':0.5,\n",
        "        'xanchor': 'center',\n",
        "        'yanchor': 'top'},\n",
        "    plot_bgcolor= 'black',\n",
        "    paper_bgcolor= 'black',\n",
        "    yaxis_title=\"Health_exp_per_capita_USD_2016\",\n",
        "    showlegend=False,\n",
        "    font=dict(\n",
        "        family=\"Times New Roman, Times, serif\",\n",
        "        size=14,\n",
        "        color=\"#7f7f7f\"\n",
        "    )\n",
        ")\n",
        "fig.show()"
      ],
      "execution_count": 36,
      "outputs": [
        {
          "output_type": "display_data",
          "data": {
            "text/html": [
              "<html>\n",
              "<head><meta charset=\"utf-8\" /></head>\n",
              "<body>\n",
              "    <div>\n",
              "            <script src=\"https://cdnjs.cloudflare.com/ajax/libs/mathjax/2.7.5/MathJax.js?config=TeX-AMS-MML_SVG\"></script><script type=\"text/javascript\">if (window.MathJax) {MathJax.Hub.Config({SVG: {font: \"STIX-Web\"}});}</script>\n",
              "                <script type=\"text/javascript\">window.PlotlyConfig = {MathJaxConfig: 'local'};</script>\n",
              "        <script src=\"https://cdn.plot.ly/plotly-latest.min.js\"></script>    \n",
              "            <div id=\"3cdc1674-257f-411d-b1e8-1702a2e36064\" class=\"plotly-graph-div\" style=\"height:525px; width:100%;\"></div>\n",
              "            <script type=\"text/javascript\">\n",
              "                \n",
              "                    window.PLOTLYENV=window.PLOTLYENV || {};\n",
              "                    \n",
              "                if (document.getElementById(\"3cdc1674-257f-411d-b1e8-1702a2e36064\")) {\n",
              "                    Plotly.newPlot(\n",
              "                        '3cdc1674-257f-411d-b1e8-1702a2e36064',\n",
              "                        [{\"type\": \"bar\", \"x\": [\"US\", \"Switzerland\", \"Norway\", \"Luxembourg\", \"Sweden\", \"Denmark\", \"Iceland\", \"Australia\", \"Ireland\", \"Netherlands\", \"Germany\", \"Austria\", \"Canada\", \"France\", \"Japan\", \"Belgium\", \"Finland\", \"United Kingdom\", \"Andorra\", \"New Zealand\", \"San Marino\", \"Monaco\", \"Israel\", \"Italy\", \"Singapore\"], \"xaxis\": \"x\", \"y\": [9869.7, 9836.0, 7477.9, 6271.4, 5710.6, 5565.6, 5063.6, 5002.4, 4758.6, 4742.0, 4714.3, 4688.3, 4458.2, 4263.4, 4233.0, 4149.4, 4117.3, 3958.0, 3834.7, 3745.2, 3012.8, 2939.8, 2837.1, 2738.7, 2462.4], \"yaxis\": \"y\"}, {\"type\": \"bar\", \"x\": [\"Central African Republic\", \"Burundi\", \"Mozambique\", \"Congo (Kinshasa)\", \"Gambia\", \"Niger\", \"Madagascar\", \"Ethiopia\", \"Malawi\", \"Mali\", \"Eritrea\", \"Benin\", \"Chad\", \"Bangladesh\", \"Tanzania\", \"Guinea\", \"Uganda\", \"Haiti\", \"Togo\", \"Guinea-Bissau\", \"Pakistan\", \"Burkina Faso\", \"Nepal\", \"Mauritania\", \"Rwanda\"], \"xaxis\": \"x2\", \"y\": [16.4, 18.5, 19.2, 20.5, 20.9, 22.7, 24.1, 27.5, 29.6, 29.8, 29.9, 30.4, 31.7, 34.2, 35.5, 37.5, 37.6, 37.7, 38.8, 39.1, 39.6, 40.9, 45.5, 46.8, 48.1], \"yaxis\": \"y2\"}],\n",
              "                        {\"font\": {\"color\": \"#7f7f7f\", \"family\": \"Times New Roman, Times, serif\", \"size\": 14}, \"paper_bgcolor\": \"black\", \"plot_bgcolor\": \"black\", \"showlegend\": false, \"template\": {\"data\": {\"bar\": [{\"error_x\": {\"color\": \"#2a3f5f\"}, \"error_y\": {\"color\": \"#2a3f5f\"}, \"marker\": {\"line\": {\"color\": \"#E5ECF6\", \"width\": 0.5}}, \"type\": \"bar\"}], \"barpolar\": [{\"marker\": {\"line\": {\"color\": \"#E5ECF6\", \"width\": 0.5}}, \"type\": \"barpolar\"}], \"carpet\": [{\"aaxis\": {\"endlinecolor\": \"#2a3f5f\", \"gridcolor\": \"white\", \"linecolor\": \"white\", \"minorgridcolor\": \"white\", \"startlinecolor\": \"#2a3f5f\"}, \"baxis\": {\"endlinecolor\": \"#2a3f5f\", \"gridcolor\": \"white\", \"linecolor\": \"white\", \"minorgridcolor\": \"white\", \"startlinecolor\": \"#2a3f5f\"}, \"type\": \"carpet\"}], \"choropleth\": [{\"colorbar\": {\"outlinewidth\": 0, \"ticks\": \"\"}, \"type\": \"choropleth\"}], \"contour\": [{\"colorbar\": {\"outlinewidth\": 0, \"ticks\": \"\"}, \"colorscale\": [[0.0, \"#0d0887\"], [0.1111111111111111, \"#46039f\"], [0.2222222222222222, \"#7201a8\"], [0.3333333333333333, \"#9c179e\"], [0.4444444444444444, \"#bd3786\"], [0.5555555555555556, \"#d8576b\"], [0.6666666666666666, \"#ed7953\"], [0.7777777777777778, \"#fb9f3a\"], [0.8888888888888888, \"#fdca26\"], [1.0, \"#f0f921\"]], \"type\": \"contour\"}], \"contourcarpet\": [{\"colorbar\": {\"outlinewidth\": 0, \"ticks\": \"\"}, \"type\": \"contourcarpet\"}], \"heatmap\": [{\"colorbar\": {\"outlinewidth\": 0, \"ticks\": \"\"}, \"colorscale\": [[0.0, \"#0d0887\"], [0.1111111111111111, \"#46039f\"], [0.2222222222222222, \"#7201a8\"], [0.3333333333333333, \"#9c179e\"], [0.4444444444444444, \"#bd3786\"], [0.5555555555555556, \"#d8576b\"], [0.6666666666666666, \"#ed7953\"], [0.7777777777777778, \"#fb9f3a\"], [0.8888888888888888, \"#fdca26\"], [1.0, \"#f0f921\"]], \"type\": \"heatmap\"}], \"heatmapgl\": [{\"colorbar\": {\"outlinewidth\": 0, \"ticks\": \"\"}, \"colorscale\": [[0.0, \"#0d0887\"], [0.1111111111111111, \"#46039f\"], [0.2222222222222222, \"#7201a8\"], [0.3333333333333333, \"#9c179e\"], [0.4444444444444444, \"#bd3786\"], [0.5555555555555556, \"#d8576b\"], [0.6666666666666666, \"#ed7953\"], [0.7777777777777778, \"#fb9f3a\"], [0.8888888888888888, \"#fdca26\"], [1.0, \"#f0f921\"]], \"type\": \"heatmapgl\"}], \"histogram\": [{\"marker\": {\"colorbar\": {\"outlinewidth\": 0, \"ticks\": \"\"}}, \"type\": \"histogram\"}], \"histogram2d\": [{\"colorbar\": {\"outlinewidth\": 0, \"ticks\": \"\"}, \"colorscale\": [[0.0, \"#0d0887\"], [0.1111111111111111, \"#46039f\"], [0.2222222222222222, \"#7201a8\"], [0.3333333333333333, \"#9c179e\"], [0.4444444444444444, \"#bd3786\"], [0.5555555555555556, \"#d8576b\"], [0.6666666666666666, \"#ed7953\"], [0.7777777777777778, \"#fb9f3a\"], [0.8888888888888888, \"#fdca26\"], [1.0, \"#f0f921\"]], \"type\": \"histogram2d\"}], \"histogram2dcontour\": [{\"colorbar\": {\"outlinewidth\": 0, \"ticks\": \"\"}, \"colorscale\": [[0.0, \"#0d0887\"], [0.1111111111111111, \"#46039f\"], [0.2222222222222222, \"#7201a8\"], [0.3333333333333333, \"#9c179e\"], [0.4444444444444444, \"#bd3786\"], [0.5555555555555556, \"#d8576b\"], [0.6666666666666666, \"#ed7953\"], [0.7777777777777778, \"#fb9f3a\"], [0.8888888888888888, \"#fdca26\"], [1.0, \"#f0f921\"]], \"type\": \"histogram2dcontour\"}], \"mesh3d\": [{\"colorbar\": {\"outlinewidth\": 0, \"ticks\": \"\"}, \"type\": \"mesh3d\"}], \"parcoords\": [{\"line\": {\"colorbar\": {\"outlinewidth\": 0, \"ticks\": \"\"}}, \"type\": \"parcoords\"}], \"pie\": [{\"automargin\": true, \"type\": \"pie\"}], \"scatter\": [{\"marker\": {\"colorbar\": {\"outlinewidth\": 0, \"ticks\": \"\"}}, \"type\": \"scatter\"}], \"scatter3d\": [{\"line\": {\"colorbar\": {\"outlinewidth\": 0, \"ticks\": \"\"}}, \"marker\": {\"colorbar\": {\"outlinewidth\": 0, \"ticks\": \"\"}}, \"type\": \"scatter3d\"}], \"scattercarpet\": [{\"marker\": {\"colorbar\": {\"outlinewidth\": 0, \"ticks\": \"\"}}, \"type\": \"scattercarpet\"}], \"scattergeo\": [{\"marker\": {\"colorbar\": {\"outlinewidth\": 0, \"ticks\": \"\"}}, \"type\": \"scattergeo\"}], \"scattergl\": [{\"marker\": {\"colorbar\": {\"outlinewidth\": 0, \"ticks\": \"\"}}, \"type\": \"scattergl\"}], \"scattermapbox\": [{\"marker\": {\"colorbar\": {\"outlinewidth\": 0, \"ticks\": \"\"}}, \"type\": \"scattermapbox\"}], \"scatterpolar\": [{\"marker\": {\"colorbar\": {\"outlinewidth\": 0, \"ticks\": \"\"}}, \"type\": \"scatterpolar\"}], \"scatterpolargl\": [{\"marker\": {\"colorbar\": {\"outlinewidth\": 0, \"ticks\": \"\"}}, \"type\": \"scatterpolargl\"}], \"scatterternary\": [{\"marker\": {\"colorbar\": {\"outlinewidth\": 0, \"ticks\": \"\"}}, \"type\": \"scatterternary\"}], \"surface\": [{\"colorbar\": {\"outlinewidth\": 0, \"ticks\": \"\"}, \"colorscale\": [[0.0, \"#0d0887\"], [0.1111111111111111, \"#46039f\"], [0.2222222222222222, \"#7201a8\"], [0.3333333333333333, \"#9c179e\"], [0.4444444444444444, \"#bd3786\"], [0.5555555555555556, \"#d8576b\"], [0.6666666666666666, \"#ed7953\"], [0.7777777777777778, \"#fb9f3a\"], [0.8888888888888888, \"#fdca26\"], [1.0, \"#f0f921\"]], \"type\": \"surface\"}], \"table\": [{\"cells\": {\"fill\": {\"color\": \"#EBF0F8\"}, \"line\": {\"color\": \"white\"}}, \"header\": {\"fill\": {\"color\": \"#C8D4E3\"}, \"line\": {\"color\": \"white\"}}, \"type\": \"table\"}]}, \"layout\": {\"annotationdefaults\": {\"arrowcolor\": \"#2a3f5f\", \"arrowhead\": 0, \"arrowwidth\": 1}, \"coloraxis\": {\"colorbar\": {\"outlinewidth\": 0, \"ticks\": \"\"}}, \"colorscale\": {\"diverging\": [[0, \"#8e0152\"], [0.1, \"#c51b7d\"], [0.2, \"#de77ae\"], [0.3, \"#f1b6da\"], [0.4, \"#fde0ef\"], [0.5, \"#f7f7f7\"], [0.6, \"#e6f5d0\"], [0.7, \"#b8e186\"], [0.8, \"#7fbc41\"], [0.9, \"#4d9221\"], [1, \"#276419\"]], \"sequential\": [[0.0, \"#0d0887\"], [0.1111111111111111, \"#46039f\"], [0.2222222222222222, \"#7201a8\"], [0.3333333333333333, \"#9c179e\"], [0.4444444444444444, \"#bd3786\"], [0.5555555555555556, \"#d8576b\"], [0.6666666666666666, \"#ed7953\"], [0.7777777777777778, \"#fb9f3a\"], [0.8888888888888888, \"#fdca26\"], [1.0, \"#f0f921\"]], \"sequentialminus\": [[0.0, \"#0d0887\"], [0.1111111111111111, \"#46039f\"], [0.2222222222222222, \"#7201a8\"], [0.3333333333333333, \"#9c179e\"], [0.4444444444444444, \"#bd3786\"], [0.5555555555555556, \"#d8576b\"], [0.6666666666666666, \"#ed7953\"], [0.7777777777777778, \"#fb9f3a\"], [0.8888888888888888, \"#fdca26\"], [1.0, \"#f0f921\"]]}, \"colorway\": [\"#636efa\", \"#EF553B\", \"#00cc96\", \"#ab63fa\", \"#FFA15A\", \"#19d3f3\", \"#FF6692\", \"#B6E880\", \"#FF97FF\", \"#FECB52\"], \"font\": {\"color\": \"#2a3f5f\"}, \"geo\": {\"bgcolor\": \"white\", \"lakecolor\": \"white\", \"landcolor\": \"#E5ECF6\", \"showlakes\": true, \"showland\": true, \"subunitcolor\": \"white\"}, \"hoverlabel\": {\"align\": \"left\"}, \"hovermode\": \"closest\", \"mapbox\": {\"style\": \"light\"}, \"paper_bgcolor\": \"white\", \"plot_bgcolor\": \"#E5ECF6\", \"polar\": {\"angularaxis\": {\"gridcolor\": \"white\", \"linecolor\": \"white\", \"ticks\": \"\"}, \"bgcolor\": \"#E5ECF6\", \"radialaxis\": {\"gridcolor\": \"white\", \"linecolor\": \"white\", \"ticks\": \"\"}}, \"scene\": {\"xaxis\": {\"backgroundcolor\": \"#E5ECF6\", \"gridcolor\": \"white\", \"gridwidth\": 2, \"linecolor\": \"white\", \"showbackground\": true, \"ticks\": \"\", \"zerolinecolor\": \"white\"}, \"yaxis\": {\"backgroundcolor\": \"#E5ECF6\", \"gridcolor\": \"white\", \"gridwidth\": 2, \"linecolor\": \"white\", \"showbackground\": true, \"ticks\": \"\", \"zerolinecolor\": \"white\"}, \"zaxis\": {\"backgroundcolor\": \"#E5ECF6\", \"gridcolor\": \"white\", \"gridwidth\": 2, \"linecolor\": \"white\", \"showbackground\": true, \"ticks\": \"\", \"zerolinecolor\": \"white\"}}, \"shapedefaults\": {\"line\": {\"color\": \"#2a3f5f\"}}, \"ternary\": {\"aaxis\": {\"gridcolor\": \"white\", \"linecolor\": \"white\", \"ticks\": \"\"}, \"baxis\": {\"gridcolor\": \"white\", \"linecolor\": \"white\", \"ticks\": \"\"}, \"bgcolor\": \"#E5ECF6\", \"caxis\": {\"gridcolor\": \"white\", \"linecolor\": \"white\", \"ticks\": \"\"}}, \"title\": {\"x\": 0.05}, \"xaxis\": {\"automargin\": true, \"gridcolor\": \"white\", \"linecolor\": \"white\", \"ticks\": \"\", \"title\": {\"standoff\": 15}, \"zerolinecolor\": \"white\", \"zerolinewidth\": 2}, \"yaxis\": {\"automargin\": true, \"gridcolor\": \"white\", \"linecolor\": \"white\", \"ticks\": \"\", \"title\": {\"standoff\": 15}, \"zerolinecolor\": \"white\", \"zerolinewidth\": 2}}}, \"title\": {\"text\": \"25 highest and 25 lowest spenders per capita\", \"x\": 0.5, \"xanchor\": \"center\", \"y\": 0.9, \"yanchor\": \"top\"}, \"xaxis\": {\"anchor\": \"y\", \"domain\": [0.0, 0.45]}, \"xaxis2\": {\"anchor\": \"y2\", \"domain\": [0.55, 1.0]}, \"yaxis\": {\"anchor\": \"x\", \"domain\": [0.0, 1.0], \"title\": {\"text\": \"Health_exp_per_capita_USD_2016\"}}, \"yaxis2\": {\"anchor\": \"x2\", \"domain\": [0.0, 1.0], \"matches\": \"y\", \"showticklabels\": false}},\n",
              "                        {\"responsive\": true}\n",
              "                    ).then(function(){\n",
              "                            \n",
              "var gd = document.getElementById('3cdc1674-257f-411d-b1e8-1702a2e36064');\n",
              "var x = new MutationObserver(function (mutations, observer) {{\n",
              "        var display = window.getComputedStyle(gd).display;\n",
              "        if (!display || display === 'none') {{\n",
              "            console.log([gd, 'removed!']);\n",
              "            Plotly.purge(gd);\n",
              "            observer.disconnect();\n",
              "        }}\n",
              "}});\n",
              "\n",
              "// Listen for the removal of the full notebook cells\n",
              "var notebookContainer = gd.closest('#notebook-container');\n",
              "if (notebookContainer) {{\n",
              "    x.observe(notebookContainer, {childList: true});\n",
              "}}\n",
              "\n",
              "// Listen for the clearing of the current output cell\n",
              "var outputEl = gd.closest('.output');\n",
              "if (outputEl) {{\n",
              "    x.observe(outputEl, {childList: true});\n",
              "}}\n",
              "\n",
              "                        })\n",
              "                };\n",
              "                \n",
              "            </script>\n",
              "        </div>\n",
              "</body>\n",
              "</html>"
            ]
          },
          "metadata": {
            "tags": []
          }
        }
      ]
    },
    {
      "cell_type": "markdown",
      "metadata": {
        "id": "TAM_MBHx2mlJ",
        "colab_type": "text"
      },
      "source": [
        "**Calculating total spending**"
      ]
    },
    {
      "cell_type": "markdown",
      "metadata": {
        "id": "cpZOw03G25jy",
        "colab_type": "text"
      },
      "source": [
        "We calculate the total expenditure of a country through the different means i.e. 'out of pocket funds,Goverenment/public funds and external funds'. Calculating these values will give us more information on how much each country spends on healthcare which will inform our classification."
      ]
    },
    {
      "cell_type": "markdown",
      "metadata": {
        "id": "uC1KOKiB5AoF",
        "colab_type": "text"
      },
      "source": [
        "**Computation of total Public/Government spending**"
      ]
    },
    {
      "cell_type": "code",
      "metadata": {
        "id": "s7wbaa_q5aVk",
        "colab_type": "code",
        "colab": {}
      },
      "source": [
        "df['Pub_Spend'] = df.apply(lambda row: (row.Health_exp_pct_GDP_2016 / 100) * row.Health_exp_public_pct_2016, axis = 1)"
      ],
      "execution_count": 45,
      "outputs": []
    },
    {
      "cell_type": "markdown",
      "metadata": {
        "id": "vM5bP66R5GWe",
        "colab_type": "text"
      },
      "source": [
        "**computation of total out of pocket spending**"
      ]
    },
    {
      "cell_type": "code",
      "metadata": {
        "id": "aJcbsa7f5hE4",
        "colab_type": "code",
        "colab": {}
      },
      "source": [
        "df['Outofpocket_Spend'] = df.apply(lambda row: (row.Health_exp_pct_GDP_2016 / 100) * row.Health_exp_out_of_pocket_pct_2016, axis = 1) "
      ],
      "execution_count": 38,
      "outputs": []
    },
    {
      "cell_type": "markdown",
      "metadata": {
        "id": "RPS53mw15SPb",
        "colab_type": "text"
      },
      "source": [
        "**Computation of Total External Funds**"
      ]
    },
    {
      "cell_type": "code",
      "metadata": {
        "id": "q7u-OS0w6N1H",
        "colab_type": "code",
        "colab": {}
      },
      "source": [
        "df['External_funds'] =df.apply(lambda row: (row.Health_exp_pct_GDP_2016 / 100) * row.External_health_exp_pct_2016, axis = 1) "
      ],
      "execution_count": 56,
      "outputs": []
    },
    {
      "cell_type": "markdown",
      "metadata": {
        "id": "dm9iTt1TlATt",
        "colab_type": "text"
      },
      "source": [
        "**Categorization of high spenders and low spenders**"
      ]
    },
    {
      "cell_type": "code",
      "metadata": {
        "id": "HroSLzOkjroi",
        "colab_type": "code",
        "colab": {
          "base_uri": "https://localhost:8080/",
          "height": 313
        },
        "outputId": "e1ef961b-099c-4ead-ff37-8b70169b197a"
      },
      "source": [
        "df.describe()"
      ],
      "execution_count": 21,
      "outputs": [
        {
          "output_type": "execute_result",
          "data": {
            "text/html": [
              "<div>\n",
              "<style scoped>\n",
              "    .dataframe tbody tr th:only-of-type {\n",
              "        vertical-align: middle;\n",
              "    }\n",
              "\n",
              "    .dataframe tbody tr th {\n",
              "        vertical-align: top;\n",
              "    }\n",
              "\n",
              "    .dataframe thead th {\n",
              "        text-align: right;\n",
              "    }\n",
              "</style>\n",
              "<table border=\"1\" class=\"dataframe\">\n",
              "  <thead>\n",
              "    <tr style=\"text-align: right;\">\n",
              "      <th></th>\n",
              "      <th>Health_exp_pct_GDP_2016</th>\n",
              "      <th>Health_exp_public_pct_2016</th>\n",
              "      <th>Health_exp_out_of_pocket_pct_2016</th>\n",
              "      <th>Health_exp_per_capita_USD_2016</th>\n",
              "      <th>per_capita_exp_PPP_2016</th>\n",
              "      <th>External_health_exp_pct_2016</th>\n",
              "      <th>Physicians_per_1000_2009-18</th>\n",
              "      <th>Nurse_midwife_per_1000_2009-18</th>\n",
              "      <th>Specialist_surgical_per_1000_2008-18</th>\n",
              "      <th>Completeness_of_birth_reg_2009-18</th>\n",
              "      <th>Completeness_of_death_reg_2008-16</th>\n",
              "    </tr>\n",
              "  </thead>\n",
              "  <tbody>\n",
              "    <tr>\n",
              "      <th>count</th>\n",
              "      <td>210.000000</td>\n",
              "      <td>210.000000</td>\n",
              "      <td>210.000000</td>\n",
              "      <td>210.000000</td>\n",
              "      <td>210.000000</td>\n",
              "      <td>210.000000</td>\n",
              "      <td>210.000000</td>\n",
              "      <td>210.000000</td>\n",
              "      <td>210.000000</td>\n",
              "      <td>210.000000</td>\n",
              "      <td>210.000000</td>\n",
              "    </tr>\n",
              "    <tr>\n",
              "      <th>mean</th>\n",
              "      <td>6.715054</td>\n",
              "      <td>52.915054</td>\n",
              "      <td>32.661828</td>\n",
              "      <td>1037.004839</td>\n",
              "      <td>1412.466667</td>\n",
              "      <td>9.116766</td>\n",
              "      <td>1.723280</td>\n",
              "      <td>4.139153</td>\n",
              "      <td>37.937143</td>\n",
              "      <td>84.202454</td>\n",
              "      <td>89.309346</td>\n",
              "    </tr>\n",
              "    <tr>\n",
              "      <th>std</th>\n",
              "      <td>2.800425</td>\n",
              "      <td>20.658571</td>\n",
              "      <td>18.414722</td>\n",
              "      <td>1611.264318</td>\n",
              "      <td>1590.026244</td>\n",
              "      <td>12.359548</td>\n",
              "      <td>1.489384</td>\n",
              "      <td>3.760796</td>\n",
              "      <td>37.298041</td>\n",
              "      <td>20.575174</td>\n",
              "      <td>12.869621</td>\n",
              "    </tr>\n",
              "    <tr>\n",
              "      <th>min</th>\n",
              "      <td>1.700000</td>\n",
              "      <td>5.100000</td>\n",
              "      <td>0.100000</td>\n",
              "      <td>16.400000</td>\n",
              "      <td>29.900000</td>\n",
              "      <td>0.000000</td>\n",
              "      <td>0.000000</td>\n",
              "      <td>0.100000</td>\n",
              "      <td>0.000000</td>\n",
              "      <td>2.700000</td>\n",
              "      <td>4.000000</td>\n",
              "    </tr>\n",
              "    <tr>\n",
              "      <th>25%</th>\n",
              "      <td>4.925000</td>\n",
              "      <td>40.225000</td>\n",
              "      <td>18.825000</td>\n",
              "      <td>107.175000</td>\n",
              "      <td>270.250000</td>\n",
              "      <td>0.400000</td>\n",
              "      <td>0.400000</td>\n",
              "      <td>1.225000</td>\n",
              "      <td>5.100000</td>\n",
              "      <td>84.202454</td>\n",
              "      <td>89.309346</td>\n",
              "    </tr>\n",
              "    <tr>\n",
              "      <th>50%</th>\n",
              "      <td>6.600000</td>\n",
              "      <td>52.915054</td>\n",
              "      <td>32.661828</td>\n",
              "      <td>417.400000</td>\n",
              "      <td>941.450000</td>\n",
              "      <td>4.950000</td>\n",
              "      <td>1.650000</td>\n",
              "      <td>3.400000</td>\n",
              "      <td>37.937143</td>\n",
              "      <td>87.650000</td>\n",
              "      <td>89.309346</td>\n",
              "    </tr>\n",
              "    <tr>\n",
              "      <th>75%</th>\n",
              "      <td>8.000000</td>\n",
              "      <td>68.175000</td>\n",
              "      <td>42.750000</td>\n",
              "      <td>1037.004839</td>\n",
              "      <td>1686.025000</td>\n",
              "      <td>9.116766</td>\n",
              "      <td>2.575000</td>\n",
              "      <td>5.700000</td>\n",
              "      <td>54.500000</td>\n",
              "      <td>100.000000</td>\n",
              "      <td>99.000000</td>\n",
              "    </tr>\n",
              "    <tr>\n",
              "      <th>max</th>\n",
              "      <td>23.300000</td>\n",
              "      <td>96.000000</td>\n",
              "      <td>81.000000</td>\n",
              "      <td>9869.700000</td>\n",
              "      <td>9869.700000</td>\n",
              "      <td>69.200000</td>\n",
              "      <td>8.200000</td>\n",
              "      <td>20.300000</td>\n",
              "      <td>195.600000</td>\n",
              "      <td>100.000000</td>\n",
              "      <td>100.000000</td>\n",
              "    </tr>\n",
              "  </tbody>\n",
              "</table>\n",
              "</div>"
            ],
            "text/plain": [
              "       Health_exp_pct_GDP_2016  ...  Completeness_of_death_reg_2008-16\n",
              "count               210.000000  ...                         210.000000\n",
              "mean                  6.715054  ...                          89.309346\n",
              "std                   2.800425  ...                          12.869621\n",
              "min                   1.700000  ...                           4.000000\n",
              "25%                   4.925000  ...                          89.309346\n",
              "50%                   6.600000  ...                          89.309346\n",
              "75%                   8.000000  ...                          99.000000\n",
              "max                  23.300000  ...                         100.000000\n",
              "\n",
              "[8 rows x 11 columns]"
            ]
          },
          "metadata": {
            "tags": []
          },
          "execution_count": 21
        }
      ]
    },
    {
      "cell_type": "markdown",
      "metadata": {
        "id": "q0kVtKvG7ewg",
        "colab_type": "text"
      },
      "source": [
        "From the description of the data, the mean of the GDP is 6.715. We can then consider any country with a higer value as a high spending country. If the values is less than the mean, consider it a low spending country and this is how the countries will be categorized."
      ]
    },
    {
      "cell_type": "code",
      "metadata": {
        "id": "DESXpYBcq6gZ",
        "colab_type": "code",
        "colab": {
          "base_uri": "https://localhost:8080/",
          "height": 227
        },
        "outputId": "0d837be6-7d49-45bb-ad4c-fca50a670d2b"
      },
      "source": [
        "def categorize_Health_exp_pct_GDP_2016(row):\n",
        "    if row.Health_exp_pct_GDP_2016 > 6.71:\n",
        "        row.Health_exp_pct_GDP_2016 = 1\n",
        "    else:\n",
        "        row.Health_exp_pct_GDP_2016 = 0\n",
        "    return row\n",
        "\n",
        "categorized_df = df.apply(categorize_Health_exp_pct_GDP_2016, axis='columns')\n",
        "categorized_df.head()"
      ],
      "execution_count": 57,
      "outputs": [
        {
          "output_type": "execute_result",
          "data": {
            "text/html": [
              "<div>\n",
              "<style scoped>\n",
              "    .dataframe tbody tr th:only-of-type {\n",
              "        vertical-align: middle;\n",
              "    }\n",
              "\n",
              "    .dataframe tbody tr th {\n",
              "        vertical-align: top;\n",
              "    }\n",
              "\n",
              "    .dataframe thead th {\n",
              "        text-align: right;\n",
              "    }\n",
              "</style>\n",
              "<table border=\"1\" class=\"dataframe\">\n",
              "  <thead>\n",
              "    <tr style=\"text-align: right;\">\n",
              "      <th></th>\n",
              "      <th>Country_Region</th>\n",
              "      <th>World_Bank_Name</th>\n",
              "      <th>Health_exp_pct_GDP_2016</th>\n",
              "      <th>Health_exp_public_pct_2016</th>\n",
              "      <th>Health_exp_out_of_pocket_pct_2016</th>\n",
              "      <th>Health_exp_per_capita_USD_2016</th>\n",
              "      <th>per_capita_exp_PPP_2016</th>\n",
              "      <th>External_health_exp_pct_2016</th>\n",
              "      <th>Physicians_per_1000_2009-18</th>\n",
              "      <th>Nurse_midwife_per_1000_2009-18</th>\n",
              "      <th>Specialist_surgical_per_1000_2008-18</th>\n",
              "      <th>Completeness_of_birth_reg_2009-18</th>\n",
              "      <th>Completeness_of_death_reg_2008-16</th>\n",
              "      <th>Total_pub_Spend</th>\n",
              "      <th>Outofpocket_Spend</th>\n",
              "      <th>External_funds</th>\n",
              "      <th>Pub_Spend</th>\n",
              "    </tr>\n",
              "  </thead>\n",
              "  <tbody>\n",
              "    <tr>\n",
              "      <th>0</th>\n",
              "      <td>Afghanistan</td>\n",
              "      <td>Afghanistan</td>\n",
              "      <td>1</td>\n",
              "      <td>5.1</td>\n",
              "      <td>77.4</td>\n",
              "      <td>57.2</td>\n",
              "      <td>162.8</td>\n",
              "      <td>17.500000</td>\n",
              "      <td>0.3</td>\n",
              "      <td>0.3</td>\n",
              "      <td>0.000000</td>\n",
              "      <td>42.3</td>\n",
              "      <td>89.309346</td>\n",
              "      <td>0.5202</td>\n",
              "      <td>7.8948</td>\n",
              "      <td>1.785000</td>\n",
              "      <td>0.5202</td>\n",
              "    </tr>\n",
              "    <tr>\n",
              "      <th>1</th>\n",
              "      <td>Albania</td>\n",
              "      <td>Albania</td>\n",
              "      <td>0</td>\n",
              "      <td>41.4</td>\n",
              "      <td>58.0</td>\n",
              "      <td>271.5</td>\n",
              "      <td>759.7</td>\n",
              "      <td>0.700000</td>\n",
              "      <td>1.2</td>\n",
              "      <td>3.6</td>\n",
              "      <td>11.600000</td>\n",
              "      <td>98.4</td>\n",
              "      <td>53.000000</td>\n",
              "      <td>2.7738</td>\n",
              "      <td>3.8860</td>\n",
              "      <td>0.046900</td>\n",
              "      <td>2.7738</td>\n",
              "    </tr>\n",
              "    <tr>\n",
              "      <th>2</th>\n",
              "      <td>Algeria</td>\n",
              "      <td>Algeria</td>\n",
              "      <td>0</td>\n",
              "      <td>67.7</td>\n",
              "      <td>30.9</td>\n",
              "      <td>260.4</td>\n",
              "      <td>998.2</td>\n",
              "      <td>0.000000</td>\n",
              "      <td>1.8</td>\n",
              "      <td>2.2</td>\n",
              "      <td>12.100000</td>\n",
              "      <td>100.0</td>\n",
              "      <td>89.309346</td>\n",
              "      <td>4.4682</td>\n",
              "      <td>2.0394</td>\n",
              "      <td>0.000000</td>\n",
              "      <td>4.4682</td>\n",
              "    </tr>\n",
              "    <tr>\n",
              "      <th>3</th>\n",
              "      <td>Andorra</td>\n",
              "      <td>Andorra</td>\n",
              "      <td>1</td>\n",
              "      <td>49.1</td>\n",
              "      <td>41.7</td>\n",
              "      <td>3834.7</td>\n",
              "      <td>4978.7</td>\n",
              "      <td>9.116766</td>\n",
              "      <td>3.3</td>\n",
              "      <td>4.0</td>\n",
              "      <td>83.100000</td>\n",
              "      <td>100.0</td>\n",
              "      <td>80.000000</td>\n",
              "      <td>5.1064</td>\n",
              "      <td>4.3368</td>\n",
              "      <td>0.948144</td>\n",
              "      <td>5.1064</td>\n",
              "    </tr>\n",
              "    <tr>\n",
              "      <th>4</th>\n",
              "      <td>Angola</td>\n",
              "      <td>Angola</td>\n",
              "      <td>0</td>\n",
              "      <td>44.1</td>\n",
              "      <td>35.2</td>\n",
              "      <td>95.2</td>\n",
              "      <td>185.8</td>\n",
              "      <td>3.600000</td>\n",
              "      <td>0.2</td>\n",
              "      <td>1.3</td>\n",
              "      <td>37.937143</td>\n",
              "      <td>25.0</td>\n",
              "      <td>89.309346</td>\n",
              "      <td>1.2789</td>\n",
              "      <td>1.0208</td>\n",
              "      <td>0.104400</td>\n",
              "      <td>1.2789</td>\n",
              "    </tr>\n",
              "  </tbody>\n",
              "</table>\n",
              "</div>"
            ],
            "text/plain": [
              "  Country_Region World_Bank_Name  ...  External_funds  Pub_Spend\n",
              "0    Afghanistan     Afghanistan  ...        1.785000     0.5202\n",
              "1        Albania         Albania  ...        0.046900     2.7738\n",
              "2        Algeria         Algeria  ...        0.000000     4.4682\n",
              "3        Andorra         Andorra  ...        0.948144     5.1064\n",
              "4         Angola          Angola  ...        0.104400     1.2789\n",
              "\n",
              "[5 rows x 17 columns]"
            ]
          },
          "metadata": {
            "tags": []
          },
          "execution_count": 57
        }
      ]
    },
    {
      "cell_type": "markdown",
      "metadata": {
        "id": "5o6BMZCetxiU",
        "colab_type": "text"
      },
      "source": [
        "**Data Splitting**"
      ]
    },
    {
      "cell_type": "markdown",
      "metadata": {
        "id": "ISrn975Ot2X7",
        "colab_type": "text"
      },
      "source": [
        "We split the data into training and test sets so as to avoid having the algorithm too specified to our data set (overfitting). The splitting allows us to have a section of data on which the algorithm is tested, so as to evaluate the algorithm's performance given different data. The training data takes up 80% and the testing data 20%."
      ]
    },
    {
      "cell_type": "code",
      "metadata": {
        "id": "8VqoQ9GeugKk",
        "colab_type": "code",
        "colab": {}
      },
      "source": [
        "X =categorized_df.loc[:,['Pub_Spend','Outofpocket_Spend','Health_exp_per_capita_USD_2016','per_capita_exp_PPP_2016','External_funds']]\n",
        "y =categorized_df.loc[:,['Health_exp_pct_GDP_2016']]\n",
        "X_train,X_test,y_train, y_test = train_test_split(X, y, test_size=0.2,random_state=0, stratify = y)"
      ],
      "execution_count": 64,
      "outputs": []
    },
    {
      "cell_type": "markdown",
      "metadata": {
        "id": "kVxX0MLG1l7j",
        "colab_type": "text"
      },
      "source": [
        "**Scalling the attributes to reduce their magnitude in the model**"
      ]
    },
    {
      "cell_type": "markdown",
      "metadata": {
        "id": "gCT_0wKP9ZBV",
        "colab_type": "text"
      },
      "source": [
        "SInce our attributes vary in magnitudes, units and range, we need to standardize them "
      ]
    },
    {
      "cell_type": "code",
      "metadata": {
        "id": "-UL1QLhGLtLU",
        "colab_type": "code",
        "colab": {}
      },
      "source": [
        "sc = StandardScaler()\n",
        "X_train = sc.fit_transform(X_train)\n",
        "X_test= sc.transform(X_test)"
      ],
      "execution_count": 65,
      "outputs": []
    },
    {
      "cell_type": "markdown",
      "metadata": {
        "id": "yIwEs1yo9_n5",
        "colab_type": "text"
      },
      "source": [
        "**Training the algorithm**"
      ]
    },
    {
      "cell_type": "markdown",
      "metadata": {
        "id": "GNx_qoxN1xLJ",
        "colab_type": "text"
      },
      "source": [
        "Train the model and use Euclidean distance which determines the proximity between neighbouring points"
      ]
    },
    {
      "cell_type": "code",
      "metadata": {
        "id": "Knc_wNVmnB-k",
        "colab_type": "code",
        "colab": {
          "base_uri": "https://localhost:8080/",
          "height": 131
        },
        "outputId": "c1feaea3-daae-4231-e3b7-3d8dc8ba07c2"
      },
      "source": [
        "knn = KNeighborsClassifier(n_neighbors = 7, metric='euclidean')\n",
        "knn.fit(X_train, y_train)"
      ],
      "execution_count": 66,
      "outputs": [
        {
          "output_type": "stream",
          "text": [
            "/usr/local/lib/python3.6/dist-packages/ipykernel_launcher.py:2: DataConversionWarning:\n",
            "\n",
            "A column-vector y was passed when a 1d array was expected. Please change the shape of y to (n_samples, ), for example using ravel().\n",
            "\n"
          ],
          "name": "stderr"
        },
        {
          "output_type": "execute_result",
          "data": {
            "text/plain": [
              "KNeighborsClassifier(algorithm='auto', leaf_size=30, metric='euclidean',\n",
              "                     metric_params=None, n_jobs=None, n_neighbors=7, p=2,\n",
              "                     weights='uniform')"
            ]
          },
          "metadata": {
            "tags": []
          },
          "execution_count": 66
        }
      ]
    },
    {
      "cell_type": "markdown",
      "metadata": {
        "id": "9wplJHJK_VdF",
        "colab_type": "text"
      },
      "source": [
        "**Predicting the data**"
      ]
    },
    {
      "cell_type": "markdown",
      "metadata": {
        "id": "OMpjVPUh-iwa",
        "colab_type": "text"
      },
      "source": [
        "Using the knn model, we can predict the % GDP value which will determine the classification of the country according to high or low spender (1 or 0)"
      ]
    },
    {
      "cell_type": "code",
      "metadata": {
        "id": "twLf_78f5Irh",
        "colab_type": "code",
        "colab": {
          "base_uri": "https://localhost:8080/",
          "height": 50
        },
        "outputId": "5e72ce92-e6e6-4119-fa90-4b38c4f15970"
      },
      "source": [
        "y_pred = knn.predict (X_test)\n",
        "y_pred"
      ],
      "execution_count": 53,
      "outputs": [
        {
          "output_type": "execute_result",
          "data": {
            "text/plain": [
              "array([1, 0, 1, 0, 0, 1, 1, 0, 0, 1, 1, 1, 0, 1, 1, 0, 0, 1, 0, 1, 0, 1,\n",
              "       0, 1, 0, 0, 1, 0, 1, 0, 1, 1, 0, 0, 0, 0, 1, 0, 0, 0, 0, 1])"
            ]
          },
          "metadata": {
            "tags": []
          },
          "execution_count": 53
        }
      ]
    },
    {
      "cell_type": "markdown",
      "metadata": {
        "id": "b3e4tLuK_miG",
        "colab_type": "text"
      },
      "source": [
        "**Evaluation of the performance of the Model**"
      ]
    },
    {
      "cell_type": "markdown",
      "metadata": {
        "id": "HdHjzfunGnxb",
        "colab_type": "text"
      },
      "source": [
        "Performance is evaluated using the accuracyof rthe model and we can determine this using a confusion matrix or a classification report"
      ]
    },
    {
      "cell_type": "code",
      "metadata": {
        "id": "lSlhOw68JR8-",
        "colab_type": "code",
        "colab": {
          "base_uri": "https://localhost:8080/",
          "height": 50
        },
        "outputId": "970f4d77-7cec-4934-fc24-91386cd2a575"
      },
      "source": [
        "print(confusion_matrix(y_test, y_pred))"
      ],
      "execution_count": 63,
      "outputs": [
        {
          "output_type": "stream",
          "text": [
            "[[12 15]\n",
            " [11  4]]\n"
          ],
          "name": "stdout"
        }
      ]
    },
    {
      "cell_type": "markdown",
      "metadata": {
        "id": "w1C-GiUkNw0F",
        "colab_type": "text"
      },
      "source": [
        "From the matrix above:\n",
        "\n",
        "True negative=12\n",
        "\n",
        "True positive = 4\n",
        "\n",
        "False negative = 11\n",
        "\n",
        "False positive = 15\n",
        "\n",
        "\n",
        "\n"
      ]
    },
    {
      "cell_type": "markdown",
      "metadata": {
        "id": "pZqPe7lKNJq9",
        "colab_type": "text"
      },
      "source": [
        "**Compute  accuracy**"
      ]
    },
    {
      "cell_type": "code",
      "metadata": {
        "id": "aLPfFGXr_sPn",
        "colab_type": "code",
        "colab": {
          "base_uri": "https://localhost:8080/",
          "height": 33
        },
        "outputId": "cb71ce4c-d74f-4777-a7fc-64d637d40c2f"
      },
      "source": [
        "print(accuracy_score(y_test, y_pred))"
      ],
      "execution_count": 69,
      "outputs": [
        {
          "output_type": "stream",
          "text": [
            "0.9761904761904762\n"
          ],
          "name": "stdout"
        }
      ]
    },
    {
      "cell_type": "markdown",
      "metadata": {
        "id": "cwoOAadEQwUu",
        "colab_type": "text"
      },
      "source": [
        "From this we establish our model has 97.6% accuracy"
      ]
    },
    {
      "cell_type": "code",
      "metadata": {
        "id": "AniaYkI2Q2Ka",
        "colab_type": "code",
        "colab": {
          "base_uri": "https://localhost:8080/",
          "height": 163
        },
        "outputId": "a73750e3-301e-40b6-d384-9e1fdcf960da"
      },
      "source": [
        "print(classification_report(y_test, y_pred))\n"
      ],
      "execution_count": 70,
      "outputs": [
        {
          "output_type": "stream",
          "text": [
            "              precision    recall  f1-score   support\n",
            "\n",
            "           0       0.96      1.00      0.98        22\n",
            "           1       1.00      0.95      0.97        20\n",
            "\n",
            "    accuracy                           0.98        42\n",
            "   macro avg       0.98      0.97      0.98        42\n",
            "weighted avg       0.98      0.98      0.98        42\n",
            "\n"
          ],
          "name": "stdout"
        }
      ]
    },
    {
      "cell_type": "code",
      "metadata": {
        "id": "OEAKCzy-RzEu",
        "colab_type": "code",
        "colab": {
          "base_uri": "https://localhost:8080/",
          "height": 33
        },
        "outputId": "d64699ef-ce79-4ad2-efde-350361025abe"
      },
      "source": [
        "print(f1_score(y_test,y_pred))"
      ],
      "execution_count": 74,
      "outputs": [
        {
          "output_type": "stream",
          "text": [
            "0.9743589743589743\n"
          ],
          "name": "stdout"
        }
      ]
    },
    {
      "cell_type": "markdown",
      "metadata": {
        "id": "SRDYigF4RJRN",
        "colab_type": "text"
      },
      "source": [
        "From the classification reporrt we establish the model has an f1 score of 0.97 "
      ]
    },
    {
      "cell_type": "markdown",
      "metadata": {
        "id": "qkWfdqqKTKZS",
        "colab_type": "text"
      },
      "source": [
        "**We can visualize the number of high spenders and number of low spenders**"
      ]
    },
    {
      "cell_type": "code",
      "metadata": {
        "id": "EF0liyG0TRUX",
        "colab_type": "code",
        "colab": {
          "base_uri": "https://localhost:8080/",
          "height": 303
        },
        "outputId": "be76805d-b344-4c3e-bb09-d0d484be0944"
      },
      "source": [
        "df['Spenders'] = np.where(df['Health_exp_pct_GDP_2016'] > df['Health_exp_pct_GDP_2016'].mean(), 'High','Low')\n",
        "sns.countplot(x = \"Spenders\", data=df, palette=\"bwr\")\n",
        "plt.show"
      ],
      "execution_count": 87,
      "outputs": [
        {
          "output_type": "execute_result",
          "data": {
            "text/plain": [
              "<function matplotlib.pyplot.show>"
            ]
          },
          "metadata": {
            "tags": []
          },
          "execution_count": 87
        },
        {
          "output_type": "display_data",
          "data": {
            "image/png": "[encoded data removed]",
            "text/plain": [
              "<Figure size 432x288 with 1 Axes>"
            ]
          },
          "metadata": {
            "tags": []
          }
        }
      ]
    },
    {
      "cell_type": "markdown",
      "metadata": {
        "id": "NgmFhZLsS8LV",
        "colab_type": "text"
      },
      "source": [
        "**We visualize our predicted vs actual data for the GDP**"
      ]
    },
    {
      "cell_type": "code",
      "metadata": {
        "id": "EQsMu-xuRrxT",
        "colab_type": "code",
        "colab": {
          "base_uri": "https://localhost:8080/",
          "height": 681
        },
        "outputId": "cb67ba71-b48a-461f-ac4f-2ea012523233"
      },
      "source": [
        "plt.figure(figsize=(9, 11))\n",
        "ax = sns.distplot(categorizedGDP_df['Health_exp_pct_GDP_2016'], hist=False, color=\"b\", label=\"Actual Value\")\n",
        "sns.distplot(y_pred, hist=False, color=\"g\", label=\"Predicted Values\", ax=ax)\n",
        "plt.title('Actual vs Precited value for GDP')\n",
        "plt.show()\n",
        "plt.close()"
      ],
      "execution_count": 78,
      "outputs": [
        {
          "output_type": "display_data",
          "data": {
            "image/png": "[encoded data removed]",
            "text/plain": [
              "<Figure size 648x792 with 1 Axes>"
            ]
          },
          "metadata": {
            "tags": []
          }
        }
      ]
    }
  ]
}